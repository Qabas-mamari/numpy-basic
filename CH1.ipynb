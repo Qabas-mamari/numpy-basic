{
 "cells": [
  {
   "cell_type": "code",
   "execution_count": 1,
   "id": "dcba7269",
   "metadata": {},
   "outputs": [],
   "source": [
    "# import numpy\n",
    "import numpy as np"
   ]
  },
  {
   "cell_type": "markdown",
   "id": "fb47598d",
   "metadata": {},
   "source": [
    "## Array types and conversions between types."
   ]
  },
  {
   "cell_type": "code",
   "execution_count": 2,
   "id": "78ee516f",
   "metadata": {},
   "outputs": [
    {
     "data": {
      "text/plain": [
       "array([10, 20, 30, 40, 50])"
      ]
     },
     "execution_count": 2,
     "metadata": {},
     "output_type": "execute_result"
    }
   ],
   "source": [
    "integers = np.array([10, 20, 30, 40, 50])\n",
    "integers"
   ]
  },
  {
   "cell_type": "code",
   "execution_count": 3,
   "id": "915c519c",
   "metadata": {},
   "outputs": [
    {
     "data": {
      "text/plain": [
       "10"
      ]
     },
     "execution_count": 3,
     "metadata": {},
     "output_type": "execute_result"
    }
   ],
   "source": [
    "integers[0]"
   ]
  },
  {
   "cell_type": "code",
   "execution_count": 4,
   "id": "0fa6fedf",
   "metadata": {},
   "outputs": [
    {
     "data": {
      "text/plain": [
       "array([20, 20, 30, 40, 50])"
      ]
     },
     "execution_count": 4,
     "metadata": {},
     "output_type": "execute_result"
    }
   ],
   "source": [
    "integers[0]=20\n",
    "integers"
   ]
  },
  {
   "cell_type": "code",
   "execution_count": 5,
   "id": "5d3b677f",
   "metadata": {},
   "outputs": [
    {
     "data": {
      "text/plain": [
       "array([20, 20, 30, 40, 50])"
      ]
     },
     "execution_count": 5,
     "metadata": {},
     "output_type": "execute_result"
    }
   ],
   "source": [
    "# all element must be intergers \n",
    "integers[0]=20.6\n",
    "integers"
   ]
  },
  {
   "cell_type": "code",
   "execution_count": 6,
   "id": "2d0b599d",
   "metadata": {},
   "outputs": [
    {
     "data": {
      "text/plain": [
       "dtype('int32')"
      ]
     },
     "execution_count": 6,
     "metadata": {},
     "output_type": "execute_result"
    }
   ],
   "source": [
    "integers.dtype"
   ]
  },
  {
   "cell_type": "code",
   "execution_count": 7,
   "id": "386b606b",
   "metadata": {},
   "outputs": [
    {
     "data": {
      "text/plain": [
       "array([1.2, 2.3, 4.5, 6.8])"
      ]
     },
     "execution_count": 7,
     "metadata": {},
     "output_type": "execute_result"
    }
   ],
   "source": [
    "# all floats \n",
    "floats = np.array([1.2, 2.3, 4.5, 6.8])\n",
    "floats"
   ]
  },
  {
   "cell_type": "code",
   "execution_count": 8,
   "id": "33696608",
   "metadata": {},
   "outputs": [
    {
     "data": {
      "text/plain": [
       "array([1. , 2.3, 4.5, 6.8])"
      ]
     },
     "execution_count": 8,
     "metadata": {},
     "output_type": "execute_result"
    }
   ],
   "source": [
    "floats[0] = 1\n",
    "floats"
   ]
  },
  {
   "cell_type": "markdown",
   "id": "e35914d3",
   "metadata": {},
   "source": [
    "## Multidimensional arrays"
   ]
  },
  {
   "cell_type": "code",
   "execution_count": 9,
   "id": "71d08e18",
   "metadata": {},
   "outputs": [
    {
     "data": {
      "text/plain": [
       "array([[ 0,  1,  2,  3,  5],\n",
       "       [ 6,  7,  8,  9, 10]])"
      ]
     },
     "execution_count": 9,
     "metadata": {},
     "output_type": "execute_result"
    }
   ],
   "source": [
    "#matrix \n",
    "nums= np.array([[0, 1, 2, 3, 5], [6, 7, 8, 9, 10]])\n",
    "nums"
   ]
  },
  {
   "cell_type": "code",
   "execution_count": 10,
   "id": "1e033b59",
   "metadata": {},
   "outputs": [
    {
     "data": {
      "text/plain": [
       "0"
      ]
     },
     "execution_count": 10,
     "metadata": {},
     "output_type": "execute_result"
    }
   ],
   "source": [
    "# first element \n",
    "nums[0,0]"
   ]
  },
  {
   "cell_type": "code",
   "execution_count": 11,
   "id": "35f36076",
   "metadata": {},
   "outputs": [
    {
     "data": {
      "text/plain": [
       "10"
      ]
     },
     "execution_count": 11,
     "metadata": {},
     "output_type": "execute_result"
    }
   ],
   "source": [
    "#last element \n",
    "nums[1,4]"
   ]
  },
  {
   "cell_type": "code",
   "execution_count": 12,
   "id": "9353960c",
   "metadata": {},
   "outputs": [
    {
     "data": {
      "text/plain": [
       "2"
      ]
     },
     "execution_count": 12,
     "metadata": {},
     "output_type": "execute_result"
    }
   ],
   "source": [
    "# to find how manay dimenstion \n",
    "nums.ndim"
   ]
  },
  {
   "cell_type": "code",
   "execution_count": 13,
   "id": "6f3a279a",
   "metadata": {},
   "outputs": [
    {
     "data": {
      "text/plain": [
       "array([[[ 0,  1,  2,  3,  5],\n",
       "        [ 6,  7,  8,  9, 10]],\n",
       "\n",
       "       [[11, 12, 13, 14, 15],\n",
       "        [16, 17, 18, 19, 20]]])"
      ]
     },
     "execution_count": 13,
     "metadata": {},
     "output_type": "execute_result"
    }
   ],
   "source": [
    "multiDim = np.array([[[0, 1, 2, 3, 5], [6, 7, 8, 9, 10]],[[11, 12, 13, 14, 15], [16, 17, 18, 19, 20]]])\n",
    "multiDim"
   ]
  },
  {
   "cell_type": "code",
   "execution_count": 14,
   "id": "928ace57",
   "metadata": {},
   "outputs": [
    {
     "data": {
      "text/plain": [
       "3"
      ]
     },
     "execution_count": 14,
     "metadata": {},
     "output_type": "execute_result"
    }
   ],
   "source": [
    "multiDim.ndim"
   ]
  },
  {
   "cell_type": "code",
   "execution_count": 15,
   "id": "63f19f13",
   "metadata": {},
   "outputs": [
    {
     "data": {
      "text/plain": [
       "12"
      ]
     },
     "execution_count": 15,
     "metadata": {},
     "output_type": "execute_result"
    }
   ],
   "source": [
    "# print 12 \n",
    "multiDim[1, 0, 1]"
   ]
  },
  {
   "cell_type": "markdown",
   "id": "40aebeb4",
   "metadata": {},
   "source": [
    "## Creating arrays from lists and other Python structures"
   ]
  },
  {
   "cell_type": "code",
   "execution_count": 16,
   "id": "242f58ff",
   "metadata": {},
   "outputs": [
    {
     "data": {
      "text/plain": [
       "[1, 2, 3, 4, 5, 6]"
      ]
     },
     "execution_count": 16,
     "metadata": {},
     "output_type": "execute_result"
    }
   ],
   "source": [
    "first_list = [1, 2, 3, 4, 5, 6]\n",
    "first_list"
   ]
  },
  {
   "cell_type": "code",
   "execution_count": 17,
   "id": "358c9d1f",
   "metadata": {},
   "outputs": [
    {
     "data": {
      "text/plain": [
       "array([1, 2, 3, 4, 5, 6])"
      ]
     },
     "execution_count": 17,
     "metadata": {},
     "output_type": "execute_result"
    }
   ],
   "source": [
    "first_array = np.array(first_list)\n",
    "first_array"
   ]
  },
  {
   "cell_type": "code",
   "execution_count": 18,
   "id": "c84f10a4",
   "metadata": {},
   "outputs": [
    {
     "data": {
      "text/plain": [
       "array([ 1.000000e+00,  2.000000e+00,  3.000000e+00, -1.250000e+00,\n",
       "        1.200356e+03,  4.000000e+00])"
      ]
     },
     "execution_count": 18,
     "metadata": {},
     "output_type": "execute_result"
    }
   ],
   "source": [
    "second_list = [1, 2, 3, -1.25, 1200.356, 4]\n",
    "second_array = np.array(second_list)\n",
    "second_array"
   ]
  },
  {
   "cell_type": "code",
   "execution_count": 19,
   "id": "c1b90e57",
   "metadata": {},
   "outputs": [
    {
     "data": {
      "text/plain": [
       "array(['111', 'Home', '125', 'Sky'], dtype='<U11')"
      ]
     },
     "execution_count": 19,
     "metadata": {},
     "output_type": "execute_result"
    }
   ],
   "source": [
    "third_list = [111, 'Home', 125, 'Sky']\n",
    "third_array = np.array(third_list)\n",
    "third_array"
   ]
  },
  {
   "cell_type": "code",
   "execution_count": 20,
   "id": "fc38ebf5",
   "metadata": {},
   "outputs": [
    {
     "data": {
      "text/plain": [
       "(5, 10, 12, 9, 7)"
      ]
     },
     "execution_count": 20,
     "metadata": {},
     "output_type": "execute_result"
    }
   ],
   "source": [
    "first_tuple= (5, 10, 12, 9, 7)\n",
    "first_tuple"
   ]
  },
  {
   "cell_type": "code",
   "execution_count": 21,
   "id": "2f31c4c4",
   "metadata": {},
   "outputs": [
    {
     "data": {
      "text/plain": [
       "array([ 5, 10, 12,  9,  7])"
      ]
     },
     "execution_count": 21,
     "metadata": {},
     "output_type": "execute_result"
    }
   ],
   "source": [
    "tuple2array = np.array(first_tuple)\n",
    "tuple2array"
   ]
  },
  {
   "cell_type": "markdown",
   "id": "fdee304e",
   "metadata": {},
   "source": [
    "## Intrinsic NumPy array creation"
   ]
  },
  {
   "cell_type": "markdown",
   "id": "5d7114b3",
   "metadata": {},
   "source": [
    "<h3 style=\"color:red\">intergers array</h3>"
   ]
  },
  {
   "cell_type": "code",
   "execution_count": 22,
   "id": "fa26edbb",
   "metadata": {},
   "outputs": [
    {
     "name": "stdout",
     "output_type": "stream",
     "text": [
      "First integers array:  [0 1 2 3 4 5 6 7 8 9]\n",
      "Second integers array:  [10 12 14 16 18 20 22 24 26 28]\n"
     ]
    }
   ],
   "source": [
    "integers_array1 = np.arange(10)\n",
    "print('First integers array: ', integers_array1)\n",
    "integers_array2 = np.arange(10, 30, 2)\n",
    "print('Second integers array: ', integers_array2)"
   ]
  },
  {
   "cell_type": "markdown",
   "id": "d53c3b33",
   "metadata": {},
   "source": [
    "<h3 style=\"color:red\">floats array</h3> "
   ]
  },
  {
   "cell_type": "code",
   "execution_count": 23,
   "id": "947ed028",
   "metadata": {},
   "outputs": [
    {
     "name": "stdout",
     "output_type": "stream",
     "text": [
      "First float array:  [10.         10.20408163 10.40816327 10.6122449  10.81632653 11.02040816\n",
      " 11.2244898  11.42857143 11.63265306 11.83673469 12.04081633 12.24489796\n",
      " 12.44897959 12.65306122 12.85714286 13.06122449 13.26530612 13.46938776\n",
      " 13.67346939 13.87755102 14.08163265 14.28571429 14.48979592 14.69387755\n",
      " 14.89795918 15.10204082 15.30612245 15.51020408 15.71428571 15.91836735\n",
      " 16.12244898 16.32653061 16.53061224 16.73469388 16.93877551 17.14285714\n",
      " 17.34693878 17.55102041 17.75510204 17.95918367 18.16326531 18.36734694\n",
      " 18.57142857 18.7755102  18.97959184 19.18367347 19.3877551  19.59183673\n",
      " 19.79591837 20.        ]\n",
      "Second integers array:  [10.  12.5 15.  17.5 20. ]\n"
     ]
    }
   ],
   "source": [
    "float_array1 = np.linspace(10, 20)\n",
    "print('First float array: ', float_array1)\n",
    "float_array2 = np.linspace(10, 20, 5)\n",
    "print('Second integers array: ', float_array2)"
   ]
  },
  {
   "cell_type": "markdown",
   "id": "c9db4e97",
   "metadata": {},
   "source": [
    "<h3 style=\"color:red\">random array</h3>   "
   ]
  },
  {
   "cell_type": "code",
   "execution_count": 24,
   "id": "7ec46128",
   "metadata": {},
   "outputs": [
    {
     "name": "stdout",
     "output_type": "stream",
     "text": [
      "Float random array :  [0.95868817 0.03886153 0.05156292 0.85307048 0.01393066 0.89325176\n",
      " 0.48389759 0.8113543  0.48004286 0.78712987]\n",
      "Integer random array : [28 10 29 10 22 22 15 21 14]\n"
     ]
    }
   ],
   "source": [
    "rand_array1 = np.random.rand(10) #float \n",
    "print(\"Float random array : \" , rand_array1)\n",
    "rand_array2 = np.random.randint(10, 30, 9)\n",
    "print(\"Integer random array :\" , rand_array2)"
   ]
  },
  {
   "cell_type": "markdown",
   "id": "8e7d08a6",
   "metadata": {},
   "source": [
    "## Creating arrays filled with constant values"
   ]
  },
  {
   "cell_type": "markdown",
   "id": "3c6d610c",
   "metadata": {},
   "source": [
    "<h3 style=\"color:red\">Zero array</h3>   "
   ]
  },
  {
   "cell_type": "code",
   "execution_count": 25,
   "id": "8abbcc7e",
   "metadata": {},
   "outputs": [
    {
     "data": {
      "text/plain": [
       "array([0., 0., 0., 0., 0.])"
      ]
     },
     "execution_count": 25,
     "metadata": {},
     "output_type": "execute_result"
    }
   ],
   "source": [
    "z_array1 = np.zeros(5)\n",
    "z_array1"
   ]
  },
  {
   "cell_type": "code",
   "execution_count": 26,
   "id": "3bbf06a6",
   "metadata": {},
   "outputs": [
    {
     "data": {
      "text/plain": [
       "array([[0, 0, 0, 0, 0],\n",
       "       [0, 0, 0, 0, 0],\n",
       "       [0, 0, 0, 0, 0],\n",
       "       [0, 0, 0, 0, 0]])"
      ]
     },
     "execution_count": 26,
     "metadata": {},
     "output_type": "execute_result"
    }
   ],
   "source": [
    "z_array2 = np.zeros((4,5), dtype=int) # 4 rows, 5 columns \n",
    "z_array2"
   ]
  },
  {
   "cell_type": "markdown",
   "id": "90878ae1",
   "metadata": {},
   "source": [
    "<h3 style=\"color:red\">Ones array</h3>   "
   ]
  },
  {
   "cell_type": "code",
   "execution_count": 27,
   "id": "eaec055e",
   "metadata": {},
   "outputs": [
    {
     "data": {
      "text/plain": [
       "array([1., 1., 1., 1., 1., 1.])"
      ]
     },
     "execution_count": 27,
     "metadata": {},
     "output_type": "execute_result"
    }
   ],
   "source": [
    "o_array1 = np.ones(6)\n",
    "o_array1"
   ]
  },
  {
   "cell_type": "code",
   "execution_count": 28,
   "id": "3abdfb9e",
   "metadata": {},
   "outputs": [
    {
     "data": {
      "text/plain": [
       "array([[1, 1, 1, 1, 1, 1, 1, 1],\n",
       "       [1, 1, 1, 1, 1, 1, 1, 1],\n",
       "       [1, 1, 1, 1, 1, 1, 1, 1],\n",
       "       [1, 1, 1, 1, 1, 1, 1, 1],\n",
       "       [1, 1, 1, 1, 1, 1, 1, 1],\n",
       "       [1, 1, 1, 1, 1, 1, 1, 1],\n",
       "       [1, 1, 1, 1, 1, 1, 1, 1]])"
      ]
     },
     "execution_count": 28,
     "metadata": {},
     "output_type": "execute_result"
    }
   ],
   "source": [
    "o_array2 = np.ones((7,8), dtype=int) # 7 rows, 8 columns\n",
    "o_array2"
   ]
  },
  {
   "cell_type": "markdown",
   "id": "08a77a27",
   "metadata": {},
   "source": [
    "<h3 style=\"color:red\">Full array</h3>   "
   ]
  },
  {
   "cell_type": "code",
   "execution_count": 29,
   "id": "a295c69a",
   "metadata": {},
   "outputs": [
    {
     "data": {
      "text/plain": [
       "array([12, 12, 12, 12, 12, 12, 12, 12, 12, 12])"
      ]
     },
     "execution_count": 29,
     "metadata": {},
     "output_type": "execute_result"
    }
   ],
   "source": [
    "f_array1 = np.empty(10, dtype=int)\n",
    "f_array1.fill(12)\n",
    "f_array1"
   ]
  },
  {
   "cell_type": "code",
   "execution_count": 30,
   "id": "20070d09",
   "metadata": {},
   "outputs": [
    {
     "data": {
      "text/plain": [
       "array([10, 10, 10, 10, 10])"
      ]
     },
     "execution_count": 30,
     "metadata": {},
     "output_type": "execute_result"
    }
   ],
   "source": [
    "f_array2 = np.full(5, 10) # 5 columns\n",
    "f_array2"
   ]
  },
  {
   "cell_type": "code",
   "execution_count": 31,
   "id": "bb734aac",
   "metadata": {},
   "outputs": [
    {
     "data": {
      "text/plain": [
       "array([[8, 8, 8, 8, 8],\n",
       "       [8, 8, 8, 8, 8],\n",
       "       [8, 8, 8, 8, 8],\n",
       "       [8, 8, 8, 8, 8]])"
      ]
     },
     "execution_count": 31,
     "metadata": {},
     "output_type": "execute_result"
    }
   ],
   "source": [
    "f_array3 = np.full((4,5) , 8) # 4 rows, 5 columns with 8 number\n",
    "f_array3"
   ]
  },
  {
   "cell_type": "markdown",
   "id": "1937a678",
   "metadata": {},
   "source": [
    "## Finding the shape and size of an array"
   ]
  },
  {
   "cell_type": "code",
   "execution_count": 32,
   "id": "6af3bf73",
   "metadata": {},
   "outputs": [
    {
     "data": {
      "text/plain": [
       "(10,)"
      ]
     },
     "execution_count": 32,
     "metadata": {},
     "output_type": "execute_result"
    }
   ],
   "source": [
    "np.shape(f_array1)"
   ]
  },
  {
   "cell_type": "code",
   "execution_count": 33,
   "id": "7d4f6e98",
   "metadata": {},
   "outputs": [
    {
     "data": {
      "text/plain": [
       "(5,)"
      ]
     },
     "execution_count": 33,
     "metadata": {},
     "output_type": "execute_result"
    }
   ],
   "source": [
    "np.shape(f_array2)"
   ]
  },
  {
   "cell_type": "code",
   "execution_count": 34,
   "id": "3623b935",
   "metadata": {},
   "outputs": [
    {
     "data": {
      "text/plain": [
       "(4, 5)"
      ]
     },
     "execution_count": 34,
     "metadata": {},
     "output_type": "execute_result"
    }
   ],
   "source": [
    "np.shape(f_array3)"
   ]
  },
  {
   "cell_type": "code",
   "execution_count": 35,
   "id": "3cf4f5ad",
   "metadata": {},
   "outputs": [
    {
     "data": {
      "text/plain": [
       "(7, 8)"
      ]
     },
     "execution_count": 35,
     "metadata": {},
     "output_type": "execute_result"
    }
   ],
   "source": [
    "np.shape(o_array2)"
   ]
  }
 ],
 "metadata": {
  "kernelspec": {
   "display_name": "Python 3 (ipykernel)",
   "language": "python",
   "name": "python3"
  },
  "language_info": {
   "codemirror_mode": {
    "name": "ipython",
    "version": 3
   },
   "file_extension": ".py",
   "mimetype": "text/x-python",
   "name": "python",
   "nbconvert_exporter": "python",
   "pygments_lexer": "ipython3",
   "version": "3.9.7"
  }
 },
 "nbformat": 4,
 "nbformat_minor": 5
}

{
 "cells": [
  {
   "cell_type": "code",
   "execution_count": 1,
   "id": "dcba7269",
   "metadata": {},
   "outputs": [],
   "source": [
    "# import numpy\n",
    "import numpy as np"
   ]
  },
  {
   "cell_type": "markdown",
   "id": "fb47598d",
   "metadata": {},
   "source": [
    "### Array types and conversions between types."
   ]
  },
  {
   "cell_type": "code",
   "execution_count": 4,
   "id": "78ee516f",
   "metadata": {},
   "outputs": [
    {
     "data": {
      "text/plain": [
       "array([10, 20, 30, 40, 50])"
      ]
     },
     "execution_count": 4,
     "metadata": {},
     "output_type": "execute_result"
    }
   ],
   "source": [
    "integers = np.array([10, 20, 30, 40, 50])\n",
    "integers"
   ]
  },
  {
   "cell_type": "code",
   "execution_count": 5,
   "id": "915c519c",
   "metadata": {},
   "outputs": [
    {
     "data": {
      "text/plain": [
       "10"
      ]
     },
     "execution_count": 5,
     "metadata": {},
     "output_type": "execute_result"
    }
   ],
   "source": [
    "integers[0]"
   ]
  },
  {
   "cell_type": "code",
   "execution_count": 7,
   "id": "0fa6fedf",
   "metadata": {},
   "outputs": [
    {
     "data": {
      "text/plain": [
       "array([20, 20, 30, 40, 50])"
      ]
     },
     "execution_count": 7,
     "metadata": {},
     "output_type": "execute_result"
    }
   ],
   "source": [
    "integers[0]=20\n",
    "integers"
   ]
  },
  {
   "cell_type": "code",
   "execution_count": 8,
   "id": "5d3b677f",
   "metadata": {},
   "outputs": [
    {
     "data": {
      "text/plain": [
       "array([20, 20, 30, 40, 50])"
      ]
     },
     "execution_count": 8,
     "metadata": {},
     "output_type": "execute_result"
    }
   ],
   "source": [
    "# all element must be intergers \n",
    "integers[0]=20.6\n",
    "integers"
   ]
  },
  {
   "cell_type": "code",
   "execution_count": 9,
   "id": "2d0b599d",
   "metadata": {},
   "outputs": [
    {
     "data": {
      "text/plain": [
       "dtype('int32')"
      ]
     },
     "execution_count": 9,
     "metadata": {},
     "output_type": "execute_result"
    }
   ],
   "source": [
    "integers.dtype"
   ]
  },
  {
   "cell_type": "code",
   "execution_count": 11,
   "id": "386b606b",
   "metadata": {},
   "outputs": [
    {
     "data": {
      "text/plain": [
       "array([1.2, 2.3, 4.5, 6.8])"
      ]
     },
     "execution_count": 11,
     "metadata": {},
     "output_type": "execute_result"
    }
   ],
   "source": [
    "# all floats \n",
    "floats = np.array([1.2, 2.3, 4.5, 6.8])\n",
    "floats"
   ]
  },
  {
   "cell_type": "code",
   "execution_count": 12,
   "id": "33696608",
   "metadata": {},
   "outputs": [
    {
     "data": {
      "text/plain": [
       "array([1. , 2.3, 4.5, 6.8])"
      ]
     },
     "execution_count": 12,
     "metadata": {},
     "output_type": "execute_result"
    }
   ],
   "source": [
    "floats[0] = 1\n",
    "floats"
   ]
  },
  {
   "cell_type": "markdown",
   "id": "e35914d3",
   "metadata": {},
   "source": [
    "### Multidimensional arrays"
   ]
  },
  {
   "cell_type": "code",
   "execution_count": 20,
   "id": "71d08e18",
   "metadata": {},
   "outputs": [
    {
     "data": {
      "text/plain": [
       "array([[ 0,  1,  2,  3,  5],\n",
       "       [ 6,  7,  8,  9, 10]])"
      ]
     },
     "execution_count": 20,
     "metadata": {},
     "output_type": "execute_result"
    }
   ],
   "source": [
    "#matrix \n",
    "nums= np.array([[0, 1, 2, 3, 5], [6, 7, 8, 9, 10]])\n",
    "nums"
   ]
  },
  {
   "cell_type": "code",
   "execution_count": 21,
   "id": "1e033b59",
   "metadata": {},
   "outputs": [
    {
     "data": {
      "text/plain": [
       "0"
      ]
     },
     "execution_count": 21,
     "metadata": {},
     "output_type": "execute_result"
    }
   ],
   "source": [
    "# first element \n",
    "nums[0,0]"
   ]
  },
  {
   "cell_type": "code",
   "execution_count": 23,
   "id": "35f36076",
   "metadata": {},
   "outputs": [
    {
     "data": {
      "text/plain": [
       "10"
      ]
     },
     "execution_count": 23,
     "metadata": {},
     "output_type": "execute_result"
    }
   ],
   "source": [
    "#last element \n",
    "nums[1,4]"
   ]
  },
  {
   "cell_type": "code",
   "execution_count": 24,
   "id": "9353960c",
   "metadata": {},
   "outputs": [
    {
     "data": {
      "text/plain": [
       "2"
      ]
     },
     "execution_count": 24,
     "metadata": {},
     "output_type": "execute_result"
    }
   ],
   "source": [
    "# to find how manay dimenstion \n",
    "nums.ndim"
   ]
  },
  {
   "cell_type": "code",
   "execution_count": 30,
   "id": "6f3a279a",
   "metadata": {},
   "outputs": [
    {
     "data": {
      "text/plain": [
       "array([[[ 0,  1,  2,  3,  5],\n",
       "        [ 6,  7,  8,  9, 10]],\n",
       "\n",
       "       [[11, 12, 13, 14, 15],\n",
       "        [16, 17, 18, 19, 20]]])"
      ]
     },
     "execution_count": 30,
     "metadata": {},
     "output_type": "execute_result"
    }
   ],
   "source": [
    "multiDim = np.array([[[0, 1, 2, 3, 5], [6, 7, 8, 9, 10]],[[11, 12, 13, 14, 15], [16, 17, 18, 19, 20]]])\n",
    "multiDim"
   ]
  },
  {
   "cell_type": "code",
   "execution_count": 31,
   "id": "928ace57",
   "metadata": {},
   "outputs": [
    {
     "data": {
      "text/plain": [
       "3"
      ]
     },
     "execution_count": 31,
     "metadata": {},
     "output_type": "execute_result"
    }
   ],
   "source": [
    "multiDim.ndim"
   ]
  },
  {
   "cell_type": "code",
   "execution_count": 32,
   "id": "63f19f13",
   "metadata": {},
   "outputs": [
    {
     "data": {
      "text/plain": [
       "12"
      ]
     },
     "execution_count": 32,
     "metadata": {},
     "output_type": "execute_result"
    }
   ],
   "source": [
    "# print 12 \n",
    "multiDim[1, 0, 1]"
   ]
  },
  {
   "cell_type": "markdown",
   "id": "40aebeb4",
   "metadata": {},
   "source": [
    "### Creating arrays from lists and other Python structures"
   ]
  },
  {
   "cell_type": "code",
   "execution_count": 34,
   "id": "242f58ff",
   "metadata": {},
   "outputs": [
    {
     "data": {
      "text/plain": [
       "[1, 2, 3, 4, 5, 6]"
      ]
     },
     "execution_count": 34,
     "metadata": {},
     "output_type": "execute_result"
    }
   ],
   "source": [
    "first_list = [1, 2, 3, 4, 5, 6]\n",
    "first_list"
   ]
  },
  {
   "cell_type": "code",
   "execution_count": 36,
   "id": "358c9d1f",
   "metadata": {},
   "outputs": [
    {
     "data": {
      "text/plain": [
       "array([1, 2, 3, 4, 5, 6])"
      ]
     },
     "execution_count": 36,
     "metadata": {},
     "output_type": "execute_result"
    }
   ],
   "source": [
    "first_array = np.array(first_list)\n",
    "first_array"
   ]
  },
  {
   "cell_type": "code",
   "execution_count": 40,
   "id": "c84f10a4",
   "metadata": {},
   "outputs": [
    {
     "data": {
      "text/plain": [
       "array([ 1.000000e+00,  2.000000e+00,  3.000000e+00, -1.250000e+00,\n",
       "        1.200356e+03,  4.000000e+00])"
      ]
     },
     "execution_count": 40,
     "metadata": {},
     "output_type": "execute_result"
    }
   ],
   "source": [
    "second_list = [1, 2, 3, -1.25, 1200.356, 4]\n",
    "second_array = np.array(second_list)\n",
    "second_array"
   ]
  },
  {
   "cell_type": "code",
   "execution_count": 41,
   "id": "c1b90e57",
   "metadata": {},
   "outputs": [
    {
     "data": {
      "text/plain": [
       "array(['111', 'Home', '125', 'Sky'], dtype='<U11')"
      ]
     },
     "execution_count": 41,
     "metadata": {},
     "output_type": "execute_result"
    }
   ],
   "source": [
    "third_list = [111, 'Home', 125, 'Sky']\n",
    "third_array = np.array(third_list)\n",
    "third_array"
   ]
  },
  {
   "cell_type": "code",
   "execution_count": 42,
   "id": "fc38ebf5",
   "metadata": {},
   "outputs": [
    {
     "data": {
      "text/plain": [
       "(5, 10, 12, 9, 7)"
      ]
     },
     "execution_count": 42,
     "metadata": {},
     "output_type": "execute_result"
    }
   ],
   "source": [
    "first_tuple= (5, 10, 12, 9, 7)\n",
    "first_tuple"
   ]
  },
  {
   "cell_type": "code",
   "execution_count": 44,
   "id": "2f31c4c4",
   "metadata": {},
   "outputs": [
    {
     "data": {
      "text/plain": [
       "array([ 5, 10, 12,  9,  7])"
      ]
     },
     "execution_count": 44,
     "metadata": {},
     "output_type": "execute_result"
    }
   ],
   "source": [
    "tuple2array = np.array(first_tuple)\n",
    "tuple2array"
   ]
  },
  {
   "cell_type": "markdown",
   "id": "fdee304e",
   "metadata": {},
   "source": [
    "### Intrinsic NumPy array creation"
   ]
  },
  {
   "cell_type": "code",
   "execution_count": null,
   "id": "fa26edbb",
   "metadata": {},
   "outputs": [],
   "source": []
  }
 ],
 "metadata": {
  "kernelspec": {
   "display_name": "Python 3 (ipykernel)",
   "language": "python",
   "name": "python3"
  },
  "language_info": {
   "codemirror_mode": {
    "name": "ipython",
    "version": 3
   },
   "file_extension": ".py",
   "mimetype": "text/x-python",
   "name": "python",
   "nbconvert_exporter": "python",
   "pygments_lexer": "ipython3",
   "version": "3.9.7"
  }
 },
 "nbformat": 4,
 "nbformat_minor": 5
}

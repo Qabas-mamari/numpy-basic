{
 "cells": [
  {
   "cell_type": "markdown",
   "id": "feefb4b6",
   "metadata": {},
   "source": [
    "## Adding, removing, and sorting elements"
   ]
  },
  {
   "cell_type": "code",
   "execution_count": 2,
   "id": "78e1da42",
   "metadata": {},
   "outputs": [],
   "source": [
    "import numpy as np"
   ]
  },
  {
   "cell_type": "code",
   "execution_count": 3,
   "id": "dc794d5f",
   "metadata": {},
   "outputs": [
    {
     "data": {
      "text/plain": [
       "array([1, 2, 3, 5])"
      ]
     },
     "execution_count": 3,
     "metadata": {},
     "output_type": "execute_result"
    }
   ],
   "source": [
    "arr1 = np.array([1, 2, 3, 5])\n",
    "arr1"
   ]
  },
  {
   "cell_type": "markdown",
   "id": "6d7e0ccb",
   "metadata": {},
   "source": [
    "<h3 style=\"color:blue\">insert</h3>"
   ]
  },
  {
   "cell_type": "code",
   "execution_count": 18,
   "id": "9d848ec1",
   "metadata": {},
   "outputs": [
    {
     "name": "stdout",
     "output_type": "stream",
     "text": [
      "[1 2 3 5]\n"
     ]
    },
    {
     "data": {
      "text/plain": [
       "array([1, 4, 2, 3, 5])"
      ]
     },
     "execution_count": 18,
     "metadata": {},
     "output_type": "execute_result"
    }
   ],
   "source": [
    "## arg 1 : array name.\n",
    "## arg 2 : the index \n",
    "## arg 3 : the number \n",
    "\n",
    "print(arr1)\n",
    "arr1_1 = np.insert(arr1, 1,4) \n",
    "arr1_1"
   ]
  },
  {
   "cell_type": "markdown",
   "id": "63d925ff",
   "metadata": {},
   "source": [
    "<h3 style=\"color:blue\">append</h3>"
   ]
  },
  {
   "cell_type": "code",
   "execution_count": 19,
   "id": "0b3df4cb",
   "metadata": {},
   "outputs": [
    {
     "name": "stdout",
     "output_type": "stream",
     "text": [
      "[1 2 3 5]\n"
     ]
    },
    {
     "data": {
      "text/plain": [
       "array([1, 2, 3, 5, 5])"
      ]
     },
     "execution_count": 19,
     "metadata": {},
     "output_type": "execute_result"
    }
   ],
   "source": [
    "## arg 1 : array name.\n",
    "## arg 2 : the number \n",
    "\n",
    "print(arr1)\n",
    "arr1_2 = np.append(arr1, 5)\n",
    "arr1_2"
   ]
  },
  {
   "cell_type": "markdown",
   "id": "15d7e12f",
   "metadata": {},
   "source": [
    "<h3 style=\"color:blue\">delete</h3>"
   ]
  },
  {
   "cell_type": "code",
   "execution_count": 21,
   "id": "32587649",
   "metadata": {},
   "outputs": [
    {
     "name": "stdout",
     "output_type": "stream",
     "text": [
      "[1 2 3 5]\n"
     ]
    },
    {
     "data": {
      "text/plain": [
       "array([1, 2, 5])"
      ]
     },
     "execution_count": 21,
     "metadata": {},
     "output_type": "execute_result"
    }
   ],
   "source": [
    "## arg 1 : array name.\n",
    "## arg 2 : the index  \n",
    "\n",
    "print(arr1)\n",
    "arr1_3 = np.delete(arr1, 2)\n",
    "arr1_3"
   ]
  },
  {
   "cell_type": "markdown",
   "id": "e92231d6",
   "metadata": {},
   "source": [
    "<h3 style=\"color:blue\">sort</h3>"
   ]
  },
  {
   "cell_type": "code",
   "execution_count": 22,
   "id": "6db988ba",
   "metadata": {},
   "outputs": [
    {
     "name": "stdout",
     "output_type": "stream",
     "text": [
      "[1 2 3 4 5]\n"
     ]
    }
   ],
   "source": [
    "print(np.sort(arr1_1))"
   ]
  },
  {
   "cell_type": "code",
   "execution_count": 25,
   "id": "3c9ff476",
   "metadata": {},
   "outputs": [
    {
     "data": {
      "text/plain": [
       "array([[3, 2, 5, 7, 4],\n",
       "       [5, 0, 8, 3, 1]])"
      ]
     },
     "execution_count": 25,
     "metadata": {},
     "output_type": "execute_result"
    }
   ],
   "source": [
    "arr2 = np.array([[3, 2, 5, 7, 4], [5, 0, 8, 3, 1]])\n",
    "arr2"
   ]
  },
  {
   "cell_type": "code",
   "execution_count": 26,
   "id": "284880f3",
   "metadata": {},
   "outputs": [
    {
     "name": "stdout",
     "output_type": "stream",
     "text": [
      "[[2 3 4 5 7]\n",
      " [0 1 3 5 8]]\n"
     ]
    }
   ],
   "source": [
    "print(np.sort(arr2))"
   ]
  },
  {
   "cell_type": "markdown",
   "id": "614fc40f",
   "metadata": {},
   "source": [
    "## Copies and views"
   ]
  },
  {
   "cell_type": "code",
   "execution_count": 27,
   "id": "2141d279",
   "metadata": {},
   "outputs": [
    {
     "data": {
      "text/plain": [
       "array([1111, 1212, 1313, 1414, 1515, 1616, 1717, 1818])"
      ]
     },
     "execution_count": 27,
     "metadata": {},
     "output_type": "execute_result"
    }
   ],
   "source": [
    "students_ids_number=np.array([1111 ,1212 ,1313 ,1414 ,1515 ,1616 ,1717 ,1818])\n",
    "students_ids_number"
   ]
  },
  {
   "cell_type": "code",
   "execution_count": 28,
   "id": "4d4ba566",
   "metadata": {},
   "outputs": [
    {
     "name": "stdout",
     "output_type": "stream",
     "text": [
      "id of students_ids_number 1921252117744\n",
      "id of students_ids_number_reg 1921252117744\n"
     ]
    }
   ],
   "source": [
    "students_ids_number_reg=students_ids_number\n",
    "print(\"id of students_ids_number\",id(students_ids_number))\n",
    "print(\"id of students_ids_number_reg\",id(students_ids_number_reg))"
   ]
  },
  {
   "cell_type": "code",
   "execution_count": 30,
   "id": "3d362cd6",
   "metadata": {},
   "outputs": [
    {
     "name": "stdout",
     "output_type": "stream",
     "text": [
      "[1111 2222 1313 1414 1515 1616 1717 1818]\n",
      "[1111 2222 1313 1414 1515 1616 1717 1818]\n"
     ]
    }
   ],
   "source": [
    "## when I change in first array the second array will change\n",
    "students_ids_number_reg[1]=2222\n",
    "print(students_ids_number)\n",
    "print(students_ids_number_reg)"
   ]
  },
  {
   "cell_type": "markdown",
   "id": "1adc83ea",
   "metadata": {},
   "source": [
    "<h3 style=\"color:blue\">copy</h3>"
   ]
  },
  {
   "cell_type": "code",
   "execution_count": 32,
   "id": "7981668b",
   "metadata": {},
   "outputs": [
    {
     "data": {
      "text/plain": [
       "array([1111, 2222, 1313, 1414, 1515, 1616, 1717, 1818])"
      ]
     },
     "execution_count": 32,
     "metadata": {},
     "output_type": "execute_result"
    }
   ],
   "source": [
    "students_ids_number_cp=students_ids_number.copy()\n",
    "students_ids_number_cp"
   ]
  },
  {
   "cell_type": "code",
   "execution_count": 34,
   "id": "47bbc5fe",
   "metadata": {},
   "outputs": [
    {
     "name": "stdout",
     "output_type": "stream",
     "text": [
      "original:  [1000 2222 1313 1414 1515 1616 1717 1818]\n",
      "copy:  [1111 2222 1313 1414 1515 1616 1717 1818]\n"
     ]
    }
   ],
   "source": [
    "## only the changes happened in copy array \n",
    "students_ids_number[0]=1000\n",
    "print (\"original: \", students_ids_number)\n",
    "print(\"copy: \",students_ids_number_cp)"
   ]
  },
  {
   "cell_type": "markdown",
   "id": "eb58c6ae",
   "metadata": {},
   "source": [
    "<h3 style=\"color:blue\">view</h3>"
   ]
  },
  {
   "cell_type": "code",
   "execution_count": 35,
   "id": "bb6caa7c",
   "metadata": {},
   "outputs": [
    {
     "data": {
      "text/plain": [
       "array([1000, 2222, 1313, 1414, 1515, 1616, 1717, 1818])"
      ]
     },
     "execution_count": 35,
     "metadata": {},
     "output_type": "execute_result"
    }
   ],
   "source": [
    "students_ids_number_v=students_ids_number.view()\n",
    "students_ids_number_v"
   ]
  },
  {
   "cell_type": "code",
   "execution_count": 37,
   "id": "a7c6664d",
   "metadata": {},
   "outputs": [
    {
     "name": "stdout",
     "output_type": "stream",
     "text": [
      "original:  [2000 2222 1313 1414 1515 1616 1717 1818]\n",
      "view: [2000 2222 1313 1414 1515 1616 1717 1818]\n"
     ]
    }
   ],
   "source": [
    "## the changes happened in both arraies \n",
    "students_ids_number_v[0]=2000\n",
    "print(\"original: \", students_ids_number)\n",
    "print(\"view:\",students_ids_number_v)"
   ]
  },
  {
   "cell_type": "code",
   "execution_count": 38,
   "id": "08ffa9bb",
   "metadata": {},
   "outputs": [
    {
     "name": "stdout",
     "output_type": "stream",
     "text": [
      "None\n",
      "[2000 2222 1313 1414 1515 1616 1717 1818]\n"
     ]
    }
   ],
   "source": [
    "print(students_ids_number_cp.base)\n",
    "print(students_ids_number_v.base)"
   ]
  },
  {
   "cell_type": "markdown",
   "id": "a13f513c",
   "metadata": {},
   "source": [
    "## Reshaping arrays"
   ]
  },
  {
   "cell_type": "code",
   "execution_count": 39,
   "id": "c9f8a12b",
   "metadata": {},
   "outputs": [
    {
     "data": {
      "text/plain": [
       "array([ 1,  2,  3,  4,  5,  6,  7,  8,  9, 10, 11, 12])"
      ]
     },
     "execution_count": 39,
     "metadata": {},
     "output_type": "execute_result"
    }
   ],
   "source": [
    "arr=np.arange(1,13)\n",
    "arr"
   ]
  },
  {
   "cell_type": "code",
   "execution_count": 42,
   "id": "189e8a26",
   "metadata": {},
   "outputs": [
    {
     "data": {
      "text/plain": [
       "array([[ 1,  2,  3,  4],\n",
       "       [ 5,  6,  7,  8],\n",
       "       [ 9, 10, 11, 12]])"
      ]
     },
     "execution_count": 42,
     "metadata": {},
     "output_type": "execute_result"
    }
   ],
   "source": [
    "arr_2=np.reshape(arr,(3,4))  ## 3 rows, 4 columns \n",
    "arr_2"
   ]
  },
  {
   "cell_type": "code",
   "execution_count": 44,
   "id": "f0599df3",
   "metadata": {},
   "outputs": [
    {
     "ename": "ValueError",
     "evalue": "cannot reshape array of size 12 into shape (4,4)",
     "output_type": "error",
     "traceback": [
      "\u001b[1;31m---------------------------------------------------------------------------\u001b[0m",
      "\u001b[1;31mValueError\u001b[0m                                Traceback (most recent call last)",
      "\u001b[1;32m~\\AppData\\Local\\Temp/ipykernel_3332/2694957326.py\u001b[0m in \u001b[0;36m<module>\u001b[1;34m\u001b[0m\n\u001b[1;32m----> 1\u001b[1;33m \u001b[0marr_3\u001b[0m\u001b[1;33m=\u001b[0m\u001b[0mnp\u001b[0m\u001b[1;33m.\u001b[0m\u001b[0mreshape\u001b[0m\u001b[1;33m(\u001b[0m\u001b[0marr\u001b[0m\u001b[1;33m,\u001b[0m\u001b[1;33m(\u001b[0m\u001b[1;36m4\u001b[0m\u001b[1;33m,\u001b[0m\u001b[1;36m4\u001b[0m\u001b[1;33m)\u001b[0m\u001b[1;33m)\u001b[0m\u001b[1;33m\u001b[0m\u001b[1;33m\u001b[0m\u001b[0m\n\u001b[0m",
      "\u001b[1;32m<__array_function__ internals>\u001b[0m in \u001b[0;36mreshape\u001b[1;34m(*args, **kwargs)\u001b[0m\n",
      "\u001b[1;32m~\\Anaconda3\\lib\\site-packages\\numpy\\core\\fromnumeric.py\u001b[0m in \u001b[0;36mreshape\u001b[1;34m(a, newshape, order)\u001b[0m\n\u001b[0;32m    297\u001b[0m            [5, 6]])\n\u001b[0;32m    298\u001b[0m     \"\"\"\n\u001b[1;32m--> 299\u001b[1;33m     \u001b[1;32mreturn\u001b[0m \u001b[0m_wrapfunc\u001b[0m\u001b[1;33m(\u001b[0m\u001b[0ma\u001b[0m\u001b[1;33m,\u001b[0m \u001b[1;34m'reshape'\u001b[0m\u001b[1;33m,\u001b[0m \u001b[0mnewshape\u001b[0m\u001b[1;33m,\u001b[0m \u001b[0morder\u001b[0m\u001b[1;33m=\u001b[0m\u001b[0morder\u001b[0m\u001b[1;33m)\u001b[0m\u001b[1;33m\u001b[0m\u001b[1;33m\u001b[0m\u001b[0m\n\u001b[0m\u001b[0;32m    300\u001b[0m \u001b[1;33m\u001b[0m\u001b[0m\n\u001b[0;32m    301\u001b[0m \u001b[1;33m\u001b[0m\u001b[0m\n",
      "\u001b[1;32m~\\Anaconda3\\lib\\site-packages\\numpy\\core\\fromnumeric.py\u001b[0m in \u001b[0;36m_wrapfunc\u001b[1;34m(obj, method, *args, **kwds)\u001b[0m\n\u001b[0;32m     56\u001b[0m \u001b[1;33m\u001b[0m\u001b[0m\n\u001b[0;32m     57\u001b[0m     \u001b[1;32mtry\u001b[0m\u001b[1;33m:\u001b[0m\u001b[1;33m\u001b[0m\u001b[1;33m\u001b[0m\u001b[0m\n\u001b[1;32m---> 58\u001b[1;33m         \u001b[1;32mreturn\u001b[0m \u001b[0mbound\u001b[0m\u001b[1;33m(\u001b[0m\u001b[1;33m*\u001b[0m\u001b[0margs\u001b[0m\u001b[1;33m,\u001b[0m \u001b[1;33m**\u001b[0m\u001b[0mkwds\u001b[0m\u001b[1;33m)\u001b[0m\u001b[1;33m\u001b[0m\u001b[1;33m\u001b[0m\u001b[0m\n\u001b[0m\u001b[0;32m     59\u001b[0m     \u001b[1;32mexcept\u001b[0m \u001b[0mTypeError\u001b[0m\u001b[1;33m:\u001b[0m\u001b[1;33m\u001b[0m\u001b[1;33m\u001b[0m\u001b[0m\n\u001b[0;32m     60\u001b[0m         \u001b[1;31m# A TypeError occurs if the object does have such a method in its\u001b[0m\u001b[1;33m\u001b[0m\u001b[1;33m\u001b[0m\u001b[0m\n",
      "\u001b[1;31mValueError\u001b[0m: cannot reshape array of size 12 into shape (4,4)"
     ]
    }
   ],
   "source": [
    "arr_3=np.reshape(arr,(4,4)) "
   ]
  },
  {
   "cell_type": "code",
   "execution_count": 45,
   "id": "8fa1f17a",
   "metadata": {},
   "outputs": [
    {
     "name": "stdout",
     "output_type": "stream",
     "text": [
      "[[[ 1  2]\n",
      "  [ 3  4]]\n",
      "\n",
      " [[ 5  6]\n",
      "  [ 7  8]]\n",
      "\n",
      " [[ 9 10]\n",
      "  [11 12]]]\n",
      "Dimensions of fifth_arr is  3\n"
     ]
    }
   ],
   "source": [
    "arr_4 = np.reshape(arr,(3,2,2))\n",
    "print(arr_4)\n",
    "print(\"Dimensions of fifth_arr is \",arr_4.ndim)"
   ]
  },
  {
   "cell_type": "markdown",
   "id": "cc26397a",
   "metadata": {},
   "source": [
    "<h3 style=\"color:blue\">Flat (line array)</h3>"
   ]
  },
  {
   "cell_type": "code",
   "execution_count": 47,
   "id": "7ad6d2d6",
   "metadata": {},
   "outputs": [
    {
     "data": {
      "text/plain": [
       "array([ 1,  2,  3,  4,  5,  6,  7,  8,  9, 10, 11, 12])"
      ]
     },
     "execution_count": 47,
     "metadata": {},
     "output_type": "execute_result"
    }
   ],
   "source": [
    "arr_5 = np.reshape(arr_4,-1)\n",
    "arr_5"
   ]
  },
  {
   "cell_type": "code",
   "execution_count": 52,
   "id": "5721ee7a",
   "metadata": {},
   "outputs": [
    {
     "name": "stdout",
     "output_type": "stream",
     "text": [
      "arr_flat: [100   2   3   4   5   6   7   8   9  10  11  12]\n",
      "arr_rav: [ 1  2  3  4  5  6  7  8  9 10 11 12]\n"
     ]
    }
   ],
   "source": [
    "arr_flat = arr_4.flatten()\n",
    "print(\"arr_flat:\",arr_6)\n",
    "arr_rav = arr_4.ravel()\n",
    "print(\"arr_rav:\",arr_7)"
   ]
  },
  {
   "cell_type": "code",
   "execution_count": 53,
   "id": "c2b9cb51",
   "metadata": {},
   "outputs": [
    {
     "data": {
      "text/plain": [
       "array([100,   2,   3,   4,   5,   6,   7,   8,   9,  10,  11,  12])"
      ]
     },
     "execution_count": 53,
     "metadata": {},
     "output_type": "execute_result"
    }
   ],
   "source": [
    "arr_flat [0] =100\n",
    "arr_flat"
   ]
  },
  {
   "cell_type": "code",
   "execution_count": 54,
   "id": "e15068e4",
   "metadata": {},
   "outputs": [
    {
     "data": {
      "text/plain": [
       "array([100,   2,   3,   4,   5,   6,   7,   8,   9,  10,  11,  12])"
      ]
     },
     "execution_count": 54,
     "metadata": {},
     "output_type": "execute_result"
    }
   ],
   "source": [
    "arr_rav[0] = 100\n",
    "arr_rav"
   ]
  },
  {
   "cell_type": "markdown",
   "id": "b1c72945",
   "metadata": {},
   "source": [
    "## Indexing and slicing"
   ]
  },
  {
   "cell_type": "code",
   "execution_count": 55,
   "id": "f06026aa",
   "metadata": {},
   "outputs": [
    {
     "data": {
      "text/plain": [
       "array([[ 0,  1,  2,  3],\n",
       "       [ 4,  5,  6,  7],\n",
       "       [ 8,  9, 10, 11]])"
      ]
     },
     "execution_count": 55,
     "metadata": {},
     "output_type": "execute_result"
    }
   ],
   "source": [
    "twodim_arr = np.reshape(np.arange(12),(3,4))\n",
    "twodim_arr"
   ]
  },
  {
   "cell_type": "code",
   "execution_count": 56,
   "id": "93d2e395",
   "metadata": {},
   "outputs": [
    {
     "data": {
      "text/plain": [
       "array([4, 5, 6, 7])"
      ]
     },
     "execution_count": 56,
     "metadata": {},
     "output_type": "execute_result"
    }
   ],
   "source": [
    "twodim_arr[1]"
   ]
  },
  {
   "cell_type": "code",
   "execution_count": 57,
   "id": "1c4c199f",
   "metadata": {},
   "outputs": [
    {
     "data": {
      "text/plain": [
       "5"
      ]
     },
     "execution_count": 57,
     "metadata": {},
     "output_type": "execute_result"
    }
   ],
   "source": [
    "twodim_arr[1,1]"
   ]
  },
  {
   "cell_type": "code",
   "execution_count": 59,
   "id": "134a6fd6",
   "metadata": {},
   "outputs": [
    {
     "data": {
      "text/plain": [
       "array([[[ 0,  1,  2,  3,  4],\n",
       "        [ 5,  6,  7,  8,  9],\n",
       "        [10, 11, 12, 13, 14],\n",
       "        [15, 16, 17, 18, 19]],\n",
       "\n",
       "       [[20, 21, 22, 23, 24],\n",
       "        [25, 26, 27, 28, 29],\n",
       "        [30, 31, 32, 33, 34],\n",
       "        [35, 36, 37, 38, 39]],\n",
       "\n",
       "       [[40, 41, 42, 43, 44],\n",
       "        [45, 46, 47, 48, 49],\n",
       "        [50, 51, 52, 53, 54],\n",
       "        [55, 56, 57, 58, 59]]])"
      ]
     },
     "execution_count": 59,
     "metadata": {},
     "output_type": "execute_result"
    }
   ],
   "source": [
    "threedim_arr = np.reshape(np.arange(3*4*5),(3,4,5))\n",
    "threedim_arr"
   ]
  },
  {
   "cell_type": "code",
   "execution_count": 61,
   "id": "c431e6fe",
   "metadata": {},
   "outputs": [
    {
     "data": {
      "text/plain": [
       "array([[ 0,  1,  2,  3,  4],\n",
       "       [ 5,  6,  7,  8,  9],\n",
       "       [10, 11, 12, 13, 14],\n",
       "       [15, 16, 17, 18, 19]])"
      ]
     },
     "execution_count": 61,
     "metadata": {},
     "output_type": "execute_result"
    }
   ],
   "source": [
    "threedim_arr[0]"
   ]
  },
  {
   "cell_type": "code",
   "execution_count": 69,
   "id": "f932fbdf",
   "metadata": {},
   "outputs": [
    {
     "data": {
      "text/plain": [
       "array([[ 0,  1,  2,  3,  4],\n",
       "       [ 5,  6,  7,  8,  9],\n",
       "       [10, 11, 12, 13, 14],\n",
       "       [15, 16, 17, 18, 19]])"
      ]
     },
     "execution_count": 69,
     "metadata": {},
     "output_type": "execute_result"
    }
   ],
   "source": [
    "threedim_arr[0 ,0:] "
   ]
  },
  {
   "cell_type": "code",
   "execution_count": 70,
   "id": "b65fc4b7",
   "metadata": {},
   "outputs": [
    {
     "data": {
      "text/plain": [
       "array([ 3,  8, 13, 18])"
      ]
     },
     "execution_count": 70,
     "metadata": {},
     "output_type": "execute_result"
    }
   ],
   "source": [
    "threedim_arr[0 ,0: , 3] "
   ]
  },
  {
   "cell_type": "code",
   "execution_count": 64,
   "id": "d492a559",
   "metadata": {},
   "outputs": [
    {
     "data": {
      "text/plain": [
       "array([13, 18])"
      ]
     },
     "execution_count": 64,
     "metadata": {},
     "output_type": "execute_result"
    }
   ],
   "source": [
    "threedim_arr[0,2:12,3]"
   ]
  },
  {
   "cell_type": "markdown",
   "id": "1d4c1813",
   "metadata": {},
   "source": [
    "## Joining and splitting ararys"
   ]
  },
  {
   "cell_type": "code",
   "execution_count": 71,
   "id": "a3a366a8",
   "metadata": {},
   "outputs": [
    {
     "name": "stdout",
     "output_type": "stream",
     "text": [
      "first_arr [ 1  2  3  4  5  6  7  8  9 10]\n",
      "second_arr [11 12 13 14 15 16 17 18 19 20]\n"
     ]
    }
   ],
   "source": [
    "first_arr=np.arange(1,11)\n",
    "second_arr=np.arange(11,21)\n",
    "print(\"first_arr\",first_arr)\n",
    "print(\"second_arr\",second_arr)"
   ]
  },
  {
   "cell_type": "code",
   "execution_count": 72,
   "id": "9ed6e182",
   "metadata": {},
   "outputs": [
    {
     "data": {
      "text/plain": [
       "array([ 1,  2,  3,  4,  5,  6,  7,  8,  9, 10, 11, 12, 13, 14, 15, 16, 17,\n",
       "       18, 19, 20])"
      ]
     },
     "execution_count": 72,
     "metadata": {},
     "output_type": "execute_result"
    }
   ],
   "source": [
    "con_arr=np.concatenate((first_arr,second_arr))\n",
    "con_arr"
   ]
  },
  {
   "cell_type": "code",
   "execution_count": 73,
   "id": "316d0d5a",
   "metadata": {},
   "outputs": [
    {
     "data": {
      "text/plain": [
       "array([[ 1,  2,  3,  4,  5,  6,  7,  8,  9, 10],\n",
       "       [11, 12, 13, 14, 15, 16, 17, 18, 19, 20]])"
      ]
     },
     "execution_count": 73,
     "metadata": {},
     "output_type": "execute_result"
    }
   ],
   "source": [
    "st_arr = np.stack((first_arr,second_arr))\n",
    "st_arr "
   ]
  },
  {
   "cell_type": "code",
   "execution_count": 74,
   "id": "7c09cab8",
   "metadata": {},
   "outputs": [
    {
     "data": {
      "text/plain": [
       "array([ 1,  2,  3,  4,  5,  6,  7,  8,  9, 10, 11, 12, 13, 14, 15, 16, 17,\n",
       "       18, 19, 20])"
      ]
     },
     "execution_count": 74,
     "metadata": {},
     "output_type": "execute_result"
    }
   ],
   "source": [
    "hst_arr=np.hstack((first_arr,second_arr))\n",
    "hst_arr"
   ]
  },
  {
   "cell_type": "code",
   "execution_count": 75,
   "id": "d665d96c",
   "metadata": {},
   "outputs": [
    {
     "data": {
      "text/plain": [
       "array([[ 1,  2,  3,  4,  5,  6,  7,  8,  9, 10],\n",
       "       [11, 12, 13, 14, 15, 16, 17, 18, 19, 20]])"
      ]
     },
     "execution_count": 75,
     "metadata": {},
     "output_type": "execute_result"
    }
   ],
   "source": [
    "vst_arr=np.vstack((first_arr,second_arr))\n",
    "vst_arr"
   ]
  },
  {
   "cell_type": "code",
   "execution_count": null,
   "id": "c4254d59",
   "metadata": {},
   "outputs": [],
   "source": []
  }
 ],
 "metadata": {
  "kernelspec": {
   "display_name": "Python 3 (ipykernel)",
   "language": "python",
   "name": "python3"
  },
  "language_info": {
   "codemirror_mode": {
    "name": "ipython",
    "version": 3
   },
   "file_extension": ".py",
   "mimetype": "text/x-python",
   "name": "python",
   "nbconvert_exporter": "python",
   "pygments_lexer": "ipython3",
   "version": "3.9.7"
  }
 },
 "nbformat": 4,
 "nbformat_minor": 5
}
